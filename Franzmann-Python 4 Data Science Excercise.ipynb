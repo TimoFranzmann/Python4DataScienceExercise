{
 "cells": [
  {
   "cell_type": "code",
   "execution_count": 25,
   "id": "7f5bc29b",
   "metadata": {},
   "outputs": [
    {
     "name": "stdout",
     "output_type": "stream",
     "text": [
      "       Name     People     Area   BIP Currency\n",
      "0   Germany   82521653   357385  3466      EUR\n",
      "1     Japan  126045000   377835  4938      YEN\n",
      "2    Canada   36503097  9984670  1529      CAD\n",
      "3     Italy   60501718   301338  1850      EUR\n",
      "4  Brazilia  208360000  8515770  1798     REAL\n"
     ]
    }
   ],
   "source": [
    "import pandas as pd\n",
    "import numpy as np\n",
    "csv_url = \"https://raw.githubusercontent.com/edlich/eternalrepo/master/DS-WAHLFACH/countries.csv\"\n",
    "df = pd.read_csv(csv_url)\n",
    "#df.info()\n",
    "print(df)"
   ]
  },
  {
   "cell_type": "code",
   "execution_count": 33,
   "id": "ea8083c2",
   "metadata": {},
   "outputs": [
    {
     "name": "stdout",
     "output_type": "stream",
     "text": [
      "       Name   BIP\n",
      "0   Germany  3466\n",
      "1     Japan  4938\n",
      "2    Canada  1529\n",
      "3     Italy  1850\n",
      "4  Brazilia  1798\n"
     ]
    }
   ],
   "source": [
    "print(df[['Name','BIP']])\n"
   ]
  },
  {
   "cell_type": "code",
   "execution_count": 52,
   "id": "e164b9d8",
   "metadata": {},
   "outputs": [
    {
     "name": "stdout",
     "output_type": "stream",
     "text": [
      "       Name     People     Area   BIP Currency\n",
      "1     Japan  126045000   377835  4938      YEN\n",
      "2    Canada   36503097  9984670  1529      CAD\n",
      "3     Italy   60501718   301338  1850      EUR\n",
      "4  Brazilia  208360000  8515770  1798     REAL\n",
      "1       Japan\n",
      "2      Canada\n",
      "3       Italy\n",
      "4    Brazilia\n",
      "Name: Name, dtype: object\n"
     ]
    }
   ],
   "source": [
    "last_four = df[1:]\n",
    "print(last_four)\n",
    "#df.tail(4)\n",
    "last_four_names = df['Name'][1:]\n",
    "print(last_four_names)"
   ]
  },
  {
   "cell_type": "code",
   "execution_count": 65,
   "id": "cf3268b7",
   "metadata": {},
   "outputs": [
    {
     "name": "stdout",
     "output_type": "stream",
     "text": [
      "0    Germany\n",
      "3      Italy\n",
      "Name: Name, dtype: object\n"
     ]
    }
   ],
   "source": [
    "all_with_eur = df['Name'][df['Currency'] == 'EUR']\n",
    "print(all_with_eur)"
   ]
  },
  {
   "cell_type": "code",
   "execution_count": 68,
   "id": "4a5266dd",
   "metadata": {},
   "outputs": [
    {
     "name": "stdout",
     "output_type": "stream",
     "text": [
      "       Name Currency\n",
      "0   Germany      EUR\n",
      "1     Japan      YEN\n",
      "2    Canada      CAD\n",
      "3     Italy      EUR\n",
      "4  Brazilia     REAL\n"
     ]
    }
   ],
   "source": [
    "new_df = df[['Name', 'Currency']]\n",
    "print(new_df)"
   ]
  },
  {
   "cell_type": "code",
   "execution_count": 71,
   "id": "23a21487",
   "metadata": {},
   "outputs": [
    {
     "name": "stdout",
     "output_type": "stream",
     "text": [
      "      Name     People    Area   BIP Currency\n",
      "0  Germany   82521653  357385  3466      EUR\n",
      "1    Japan  126045000  377835  4938      YEN\n"
     ]
    }
   ],
   "source": [
    "above_2000_bip = df[df['BIP'] > 2000]\n",
    "print(above_2000_bip)"
   ]
  },
  {
   "cell_type": "code",
   "execution_count": 84,
   "id": "58a90d67",
   "metadata": {},
   "outputs": [
    {
     "name": "stdout",
     "output_type": "stream",
     "text": [
      "      Name     People     Area   BIP Currency\n",
      "0  Germany   82521653   357385  3466      EUR\n",
      "1    Japan  126045000   377835  4938      YEN\n",
      "2   Canada   36503097  9984670  1529      CAD\n",
      "3    Italy   60501718   301338  1850      EUR\n"
     ]
    }
   ],
   "source": [
    "inhabitants_50_to_150 = df[(df['People'] > 5000000) & (df['People'] < 150000000)]\n",
    "print(inhabitants_50_to_150)"
   ]
  },
  {
   "cell_type": "code",
   "execution_count": 89,
   "id": "e7ade824",
   "metadata": {},
   "outputs": [
    {
     "name": "stdout",
     "output_type": "stream",
     "text": [
      "       Name     People     Area   Bip Currency\n",
      "0   Germany   82521653   357385  3466      EUR\n",
      "1     Japan  126045000   377835  4938      YEN\n",
      "2    Canada   36503097  9984670  1529      CAD\n",
      "3     Italy   60501718   301338  1850      EUR\n",
      "4  Brazilia  208360000  8515770  1798     REAL\n"
     ]
    }
   ],
   "source": [
    "df.rename(columns={'BIP':'Bip'}, inplace=True)\n",
    "print(df)"
   ]
  },
  {
   "cell_type": "code",
   "execution_count": 99,
   "id": "b15cf3f2",
   "metadata": {},
   "outputs": [
    {
     "name": "stdout",
     "output_type": "stream",
     "text": [
      "Summe:  13581\n"
     ]
    }
   ],
   "source": [
    "sum_bip = df['Bip'].sum()\n",
    "print(\"Summe: \", sum_bip)"
   ]
  },
  {
   "cell_type": "code",
   "execution_count": 102,
   "id": "e864320b",
   "metadata": {},
   "outputs": [
    {
     "name": "stdout",
     "output_type": "stream",
     "text": [
      "102786293.6\n"
     ]
    }
   ],
   "source": [
    "avg_people = df['People'].mean()\n",
    "print(avg_people)"
   ]
  },
  {
   "cell_type": "code",
   "execution_count": 104,
   "id": "3df4ffc2",
   "metadata": {},
   "outputs": [
    {
     "name": "stdout",
     "output_type": "stream",
     "text": [
      "       Name     People     Area   Bip Currency\n",
      "4  Brazilia  208360000  8515770  1798     REAL\n",
      "2    Canada   36503097  9984670  1529      CAD\n",
      "0   Germany   82521653   357385  3466      EUR\n",
      "3     Italy   60501718   301338  1850      EUR\n",
      "1     Japan  126045000   377835  4938      YEN\n"
     ]
    }
   ],
   "source": [
    "sorted_by_name_alphabetical = df.sort_values('Name')\n",
    "print(sorted_by_name_alphabetical)"
   ]
  },
  {
   "cell_type": "code",
   "execution_count": 147,
   "id": "405f963d",
   "metadata": {},
   "outputs": [
    {
     "name": "stdout",
     "output_type": "stream",
     "text": [
      "       Name     People     Area   BIP Currency\n",
      "0   Germany   82521653   357385  3466      EUR\n",
      "1     Japan  126045000   377835  4938      YEN\n",
      "2    Canada   36503097  9984670  1529      CAD\n",
      "3     Italy   60501718   301338  1850      EUR\n",
      "4  Brazilia  208360000  8515770  1798     REAL\n",
      "       Name     People   Area   BIP Currency\n",
      "0   Germany   82521653  SMALL  3466      EUR\n",
      "1     Japan  126045000  SMALL  4938      YEN\n",
      "2    Canada   36503097    BIG  1529      CAD\n",
      "3     Italy   60501718  SMALL  1850      EUR\n",
      "4  Brazilia  208360000    BIG  1798     REAL\n"
     ]
    }
   ],
   "source": [
    "df_copy = df.copy(deep=True)\n",
    "\n",
    "condlist = [df_copy['Area'] <= 1000000, df_copy['Area'] > 1000000]\n",
    "choicelist = [\"SMALL\", \"BIG\"]\n",
    "df_copy['Area'] = np.select(condlist, choicelist)\n",
    "\n",
    "print(df)\n",
    "print(df_copy)"
   ]
  },
  {
   "cell_type": "code",
   "execution_count": null,
   "id": "355bfe4d",
   "metadata": {},
   "outputs": [],
   "source": []
  }
 ],
 "metadata": {
  "kernelspec": {
   "display_name": "Python 3 (ipykernel)",
   "language": "python",
   "name": "python3"
  },
  "language_info": {
   "codemirror_mode": {
    "name": "ipython",
    "version": 3
   },
   "file_extension": ".py",
   "mimetype": "text/x-python",
   "name": "python",
   "nbconvert_exporter": "python",
   "pygments_lexer": "ipython3",
   "version": "3.9.7"
  }
 },
 "nbformat": 4,
 "nbformat_minor": 5
}
